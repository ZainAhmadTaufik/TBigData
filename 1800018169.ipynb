{
  "nbformat": 4,
  "nbformat_minor": 0,
  "metadata": {
    "colab": {
      "name": "1800018169.ipynb",
      "provenance": [],
      "authorship_tag": "ABX9TyN0e59oT9jAi6nQfXwO8SDo",
      "include_colab_link": true
    },
    "kernelspec": {
      "name": "python3",
      "display_name": "Python 3"
    }
  },
  "cells": [
    {
      "cell_type": "markdown",
      "metadata": {
        "id": "view-in-github",
        "colab_type": "text"
      },
      "source": [
        "<a href=\"https://colab.research.google.com/github/ZainAhmadTaufik/TBigData/blob/master/1800018169.ipynb\" target=\"_parent\"><img src=\"https://colab.research.google.com/assets/colab-badge.svg\" alt=\"Open In Colab\"/></a>"
      ]
    },
    {
      "cell_type": "markdown",
      "metadata": {
        "id": "OLDBNtDO6T58",
        "colab_type": "text"
      },
      "source": [
        "# **Perhitungan Jumlah Paket Lelang dan Hasil Lelang Berdasarkan Tahun Anggarannya**\n",
        "\n",
        "Nama : Zain Ahmad Taufik\n",
        "\n",
        "NIM  : 180018169"
      ]
    },
    {
      "cell_type": "markdown",
      "metadata": {
        "id": "5wVVSaI3jNKp",
        "colab_type": "text"
      },
      "source": [
        "# **Proses EDA (Exploratory Data Analysis) pada Dataset lelang-id-2017-2018**"
      ]
    },
    {
      "cell_type": "markdown",
      "metadata": {
        "id": "08TXy4lyjOBm",
        "colab_type": "text"
      },
      "source": [
        "Proses EDA seharusnya dilakukan untuk semua kolom supaya informasi data, sebaran data diketahui sehingga dapat dilakukan pre-processing sebelum data diolah menggunakan pemrosesan Big Data (misal MapReduce, Transformations dan Actions pada RDD, DataFrame, SpratSQL maupun SparkML(Machine Learning))\n",
        "\n",
        "Pada proses EDA ini, saya akan memproses data pada kolom nama_paket dan hasil_lelang . Anda di harapkan melakukan proses EDA terhadap data sesuai kolom-kolom yang ada pada dataset yang anda pilih"
      ]
    },
    {
      "cell_type": "markdown",
      "metadata": {
        "id": "YmMNUTnajUVa",
        "colab_type": "text"
      },
      "source": [
        "# **Instalasi Spark pada Google Colab**\n",
        "\n",
        "Kode di bawah ini hanya dijalankan **satu kali saja** saat runtime pertama kali dijalankan"
      ]
    },
    {
      "cell_type": "code",
      "metadata": {
        "id": "g7SHo2JSkMD4",
        "colab_type": "code",
        "colab": {
          "base_uri": "https://localhost:8080/",
          "height": 272
        },
        "outputId": "818ce654-c717-4380-a945-dcc6ac1689ed"
      },
      "source": [
        "! apt-get install openjdk-8-jdk-headless -qq > /dev/null\n",
        "! wget -q https://downloads.apache.org/spark/spark-2.4.6/spark-2.4.6-bin-hadoop2.7.tgz\n",
        "! tar xf spark-2.4.6-bin-hadoop2.7.tgz\n",
        "! pip install -q findspark\n",
        "! pip install pyspark_dist_explore"
      ],
      "execution_count": 5,
      "outputs": [
        {
          "output_type": "stream",
          "text": [
            "Collecting pyspark_dist_explore\n",
            "  Downloading https://files.pythonhosted.org/packages/3c/33/2b6c29265413f2b56516caf02b8befbb6a79a1a3516d57bf1b0742a1be40/pyspark_dist_explore-0.1.8-py3-none-any.whl\n",
            "Requirement already satisfied: numpy in /usr/local/lib/python3.6/dist-packages (from pyspark_dist_explore) (1.18.5)\n",
            "Requirement already satisfied: matplotlib in /usr/local/lib/python3.6/dist-packages (from pyspark_dist_explore) (3.2.2)\n",
            "Requirement already satisfied: pandas in /usr/local/lib/python3.6/dist-packages (from pyspark_dist_explore) (1.0.5)\n",
            "Requirement already satisfied: scipy in /usr/local/lib/python3.6/dist-packages (from pyspark_dist_explore) (1.4.1)\n",
            "Requirement already satisfied: kiwisolver>=1.0.1 in /usr/local/lib/python3.6/dist-packages (from matplotlib->pyspark_dist_explore) (1.2.0)\n",
            "Requirement already satisfied: cycler>=0.10 in /usr/local/lib/python3.6/dist-packages (from matplotlib->pyspark_dist_explore) (0.10.0)\n",
            "Requirement already satisfied: python-dateutil>=2.1 in /usr/local/lib/python3.6/dist-packages (from matplotlib->pyspark_dist_explore) (2.8.1)\n",
            "Requirement already satisfied: pyparsing!=2.0.4,!=2.1.2,!=2.1.6,>=2.0.1 in /usr/local/lib/python3.6/dist-packages (from matplotlib->pyspark_dist_explore) (2.4.7)\n",
            "Requirement already satisfied: pytz>=2017.2 in /usr/local/lib/python3.6/dist-packages (from pandas->pyspark_dist_explore) (2018.9)\n",
            "Requirement already satisfied: six in /usr/local/lib/python3.6/dist-packages (from cycler>=0.10->matplotlib->pyspark_dist_explore) (1.12.0)\n",
            "Installing collected packages: pyspark-dist-explore\n",
            "Successfully installed pyspark-dist-explore-0.1.8\n"
          ],
          "name": "stdout"
        }
      ]
    },
    {
      "cell_type": "code",
      "metadata": {
        "id": "g-lmw6AAkd3G",
        "colab_type": "code",
        "colab": {}
      },
      "source": [
        "import os\n",
        "os.environ[\"JAVA_HOME\"] = \"/usr/lib/jvm/java-8-openjdk-amd64\"\n",
        "os.environ[\"SPARK_HOME\"] = \"/content/spark-2.4.5-bin-hadoop2.7\""
      ],
      "execution_count": 6,
      "outputs": []
    },
    {
      "cell_type": "markdown",
      "metadata": {
        "id": "PHgT3JiNjZgJ",
        "colab_type": "text"
      },
      "source": [
        "# **Import library Spark yang sudah diinstal**"
      ]
    },
    {
      "cell_type": "code",
      "metadata": {
        "id": "yTImzGs5krmi",
        "colab_type": "code",
        "colab": {}
      },
      "source": [
        "import findspark\n",
        "findspark.init(\"spark-2.4.6-bin-hadoop2.7\")# SPARK_HOME\n",
        "from pyspark.sql import SparkSession\n",
        "spark = SparkSession.builder.master(\"local[*]\").getOrCreate()\n",
        "from pyspark.sql.functions import col, avg\n",
        "from matplotlib import pyplot as plt\n",
        "from pyspark_dist_explore import Histogram, hist"
      ],
      "execution_count": 9,
      "outputs": []
    },
    {
      "cell_type": "markdown",
      "metadata": {
        "id": "k98wczMJja31",
        "colab_type": "text"
      },
      "source": [
        "# **Inisialisasi SparkContext dan SparkSession**"
      ]
    },
    {
      "cell_type": "code",
      "metadata": {
        "id": "Minxw8hEkuu2",
        "colab_type": "code",
        "colab": {}
      },
      "source": [
        "sc = spark.sparkContext\n",
        "spark = SparkSession(sc)"
      ],
      "execution_count": 10,
      "outputs": []
    },
    {
      "cell_type": "markdown",
      "metadata": {
        "id": "oKA9VQhcjeiA",
        "colab_type": "text"
      },
      "source": [
        "# **Load Dataset**\n",
        "\n",
        "Dataset berupa file CSV di load. lokasi file csv sama dengan lokasi file kode program"
      ]
    },
    {
      "cell_type": "code",
      "metadata": {
        "id": "EhfReV3J7rLv",
        "colab_type": "code",
        "colab": {
          "base_uri": "https://localhost:8080/",
          "height": 538
        },
        "outputId": "601123bf-4a55-4795-b146-9715924a46ee"
      },
      "source": [
        "lelang_df = spark.read.csv('lelang-2017-2018.csv', header=True, inferSchema=True)\n",
        "lelang_df.printSchema()"
      ],
      "execution_count": 11,
      "outputs": [
        {
          "output_type": "stream",
          "text": [
            "root\n",
            " |-- kode_lelang: string (nullable = true)\n",
            " |-- kode_rup: string (nullable = true)\n",
            " |-- nama_paket: string (nullable = true)\n",
            " |-- kategori3: string (nullable = true)\n",
            " |-- kategori4: string (nullable = true)\n",
            " |-- tahun_anggaran: string (nullable = true)\n",
            " |-- pagu: string (nullable = true)\n",
            " |-- hps: string (nullable = true)\n",
            " |-- hasil_lelang: string (nullable = true)\n",
            " |-- tgl_pengumuman: string (nullable = true)\n",
            " |-- tanggal_akhir_lelang: string (nullable = true)\n",
            " |-- tanggal_penetapan_pemenang_akhir: string (nullable = true)\n",
            " |-- tanggal_kontrak: string (nullable = true)\n",
            " |-- tgl_akhir_kontrak: string (nullable = true)\n",
            " |-- nama_kabupaten: string (nullable = true)\n",
            " |-- nama_propinsi: string (nullable = true)\n",
            " |-- nama_pemenang: string (nullable = true)\n",
            " |-- alamat_pemenang: string (nullable = true)\n",
            " |-- nama_lpse: string (nullable = true)\n",
            " |-- nama_satker: string (nullable = true)\n",
            " |-- nama_agency: string (nullable = true)\n",
            " |-- nama_panitia: string (nullable = true)\n",
            " |-- kategori_lelang: string (nullable = true)\n",
            " |-- lelang_cepat: string (nullable = true)\n",
            " |-- jumlah_peserta: string (nullable = true)\n",
            " |-- jumlah_penawar: string (nullable = true)\n",
            " |-- tanggal_mulai_pekerjaan: string (nullable = true)\n",
            " |-- durasi_pekerjaan: string (nullable = true)\n",
            " |-- lokasi_pekerjaan;;;;;;;;;;;;;;;;;;;;;;;;;;;;: string (nullable = true)\n",
            "\n"
          ],
          "name": "stdout"
        }
      ]
    },
    {
      "cell_type": "code",
      "metadata": {
        "id": "C3ksIB_uPSBh",
        "colab_type": "code",
        "colab": {
          "base_uri": "https://localhost:8080/",
          "height": 202
        },
        "outputId": "cf27eba0-e173-4a4c-e8d1-a5c703b1538a"
      },
      "source": [
        "from pyspark.sql.types import StructField, IntegerType, StructType, StringType\n",
        "\n",
        "data = [\n",
        "    StructField(\"kode_lelang\", StringType(), True),\n",
        "    StructField(\"kode_rup\", StringType(), True),\n",
        "    StructField(\"nama_paket\", IntegerType(), True),\n",
        "    StructField(\"kategori3\", StringType(), True),\n",
        "    StructField(\"kategori4\", StringType(), True),\n",
        "    StructField(\"tahun_anggaran\", StringType(), True),\n",
        "    StructField(\"pagu:\", StringType(), True),\n",
        "    StructField(\"hps:\", StringType(), True),\n",
        "    StructField(\"hasil_lelang\", IntegerType(), True),\n",
        "]\n",
        "\n",
        "finalStruct = StructType(fields=data)\n",
        "\n",
        "lelang_df = spark.read.csv(\"lelang-2017-2018.csv\", header=True, schema=finalStruct)\n",
        "lelang_df.printSchema()"
      ],
      "execution_count": 69,
      "outputs": [
        {
          "output_type": "stream",
          "text": [
            "root\n",
            " |-- kode_lelang: string (nullable = true)\n",
            " |-- kode_rup: string (nullable = true)\n",
            " |-- nama_paket: integer (nullable = true)\n",
            " |-- kategori3: string (nullable = true)\n",
            " |-- kategori4: string (nullable = true)\n",
            " |-- tahun_anggaran: string (nullable = true)\n",
            " |-- pagu:: string (nullable = true)\n",
            " |-- hps:: string (nullable = true)\n",
            " |-- hasil_lelang: integer (nullable = true)\n",
            "\n"
          ],
          "name": "stdout"
        }
      ]
    },
    {
      "cell_type": "markdown",
      "metadata": {
        "id": "j2doetohjh-Z",
        "colab_type": "text"
      },
      "source": [
        "# **1. Proses EDA**\n",
        "\n",
        "Pertama kita cek jumlah total data lelang yang ada pada dataset lelang-id-2017-2018"
      ]
    },
    {
      "cell_type": "code",
      "metadata": {
        "id": "EN3zSRqK7sBq",
        "colab_type": "code",
        "colab": {
          "base_uri": "https://localhost:8080/",
          "height": 34
        },
        "outputId": "4cb70105-5f68-4184-fc3b-b34fd64dda5b"
      },
      "source": [
        "print(\"Total data lelang : \", lelang_df.count())"
      ],
      "execution_count": 20,
      "outputs": [
        {
          "output_type": "stream",
          "text": [
            "Total data lelang :  1543893\n"
          ],
          "name": "stdout"
        }
      ]
    },
    {
      "cell_type": "code",
      "metadata": {
        "id": "L0nDoQNDpnCG",
        "colab_type": "code",
        "colab": {
          "base_uri": "https://localhost:8080/",
          "height": 222
        },
        "outputId": "7448d64f-a2cc-4e04-f1c3-38e0f8edc690"
      },
      "source": [
        "lelang_df.show(5)"
      ],
      "execution_count": 70,
      "outputs": [
        {
          "output_type": "stream",
          "text": [
            "+--------------------+--------------------+----------+---------+---------+--------------+-----+----+------------+\n",
            "|         kode_lelang|            kode_rup|nama_paket|kategori3|kategori4|tahun_anggaran|pagu:|hps:|hasil_lelang|\n",
            "+--------------------+--------------------+----------+---------+---------+--------------+-----+----+------------+\n",
            "|649312,0,Penurapa...|                null|      null|     null|     null|          null| null|null|        null|\n",
            "|                null|Pekerjaan Konstruksi|      null|     null|     null|          null| null|null|        null|\n",
            "|                null|                null|      null|     null|     null|          null| null|null|        null|\n",
            "|\"791069,-,Pengada...|                null|      null|     null|     null|          null| null|null|        null|\n",
            "|855550,11188562,P...|                null|      null|     null|     null|          null| null|null|        null|\n",
            "+--------------------+--------------------+----------+---------+---------+--------------+-----+----+------------+\n",
            "only showing top 5 rows\n",
            "\n"
          ],
          "name": "stdout"
        }
      ]
    },
    {
      "cell_type": "markdown",
      "metadata": {
        "id": "lzn5CWuQFgfC",
        "colab_type": "text"
      },
      "source": [
        "Statistik data pada kolom `nama_paket`"
      ]
    },
    {
      "cell_type": "code",
      "metadata": {
        "id": "CF3Q2IKcFS__",
        "colab_type": "code",
        "colab": {
          "base_uri": "https://localhost:8080/",
          "height": 185
        },
        "outputId": "3c0d0935-ccf5-4be3-a160-de65c4a23b19"
      },
      "source": [
        "lelang_df.select('nama_paket').describe().show()"
      ],
      "execution_count": 71,
      "outputs": [
        {
          "output_type": "stream",
          "text": [
            "+-------+-------------------+\n",
            "|summary|         nama_paket|\n",
            "+-------+-------------------+\n",
            "|  count|             155198|\n",
            "|   mean|6.428680950761801E8|\n",
            "| stddev|5.007478658756775E8|\n",
            "|    min|                  0|\n",
            "|    max|         2147300000|\n",
            "+-------+-------------------+\n",
            "\n"
          ],
          "name": "stdout"
        }
      ]
    },
    {
      "cell_type": "markdown",
      "metadata": {
        "id": "4gvKyCilGM_2",
        "colab_type": "text"
      },
      "source": [
        "Statistik data pada kolom `hasil_lelang`"
      ]
    },
    {
      "cell_type": "code",
      "metadata": {
        "id": "S46x5t9BGc0K",
        "colab_type": "code",
        "colab": {
          "base_uri": "https://localhost:8080/",
          "height": 185
        },
        "outputId": "eb7c44a8-39a2-4bb0-ca62-9bd456360b76"
      },
      "source": [
        "lelang_df.select('hasil_lelang').describe().show()"
      ],
      "execution_count": 72,
      "outputs": [
        {
          "output_type": "stream",
          "text": [
            "+-------+--------------------+\n",
            "|summary|        hasil_lelang|\n",
            "+-------+--------------------+\n",
            "|  count|               92429|\n",
            "|   mean|1.7151576835280052E8|\n",
            "| stddev|  3.78538229068332E8|\n",
            "|    min|                   0|\n",
            "|    max|          2146250000|\n",
            "+-------+--------------------+\n",
            "\n"
          ],
          "name": "stdout"
        }
      ]
    },
    {
      "cell_type": "markdown",
      "metadata": {
        "id": "a1S3JHmYGzaL",
        "colab_type": "text"
      },
      "source": [
        "Statistik Data :\n",
        "\n",
        "Pada kolom nama_paket dan hasil_lelang memiliki nilai min dan max,yaitu berupa string, sehingga valuenya berupa karakter "
      ]
    },
    {
      "cell_type": "markdown",
      "metadata": {
        "id": "g8WRB1R5Iwy2",
        "colab_type": "text"
      },
      "source": [
        "**Persebaran Data pada kolom nama_paket**"
      ]
    },
    {
      "cell_type": "code",
      "metadata": {
        "id": "1oGlQqQ4Odfp",
        "colab_type": "code",
        "colab": {
          "base_uri": "https://localhost:8080/",
          "height": 335
        },
        "outputId": "0b16de7b-edef-4672-e528-deb7b8d1cb58"
      },
      "source": [
        "lelang_df_nama_paket = lelang_df.select('nama_paket')\n",
        "\n",
        "fig, axes = plt.subplots()\n",
        "fig.set_size_inches(8, 5)\n",
        "hist(axes, lelang_df_nama_paket, color=\"blue\")\n",
        "plt.xlabel('Persebaran Data paket lelang (nama_paket)')\n",
        "plt.ylabel('Banyak')\n",
        "\n",
        "plt.show()"
      ],
      "execution_count": 73,
      "outputs": [
        {
          "output_type": "display_data",
          "data": {
            "image/png": "[encoded data removed]",
            "text/plain": [
              "<Figure size 576x360 with 1 Axes>"
            ]
          },
          "metadata": {
            "tags": [],
            "needs_background": "light"
          }
        }
      ]
    },
    {
      "cell_type": "code",
      "metadata": {
        "id": "BgUklC2iP6DA",
        "colab_type": "code",
        "colab": {
          "base_uri": "https://localhost:8080/",
          "height": 335
        },
        "outputId": "54e7f749-675b-4b77-bfcd-a47ecd147dc3"
      },
      "source": [
        "lelang_df_hasil_lelang = lelang_df.select('hasil_lelang')\n",
        "\n",
        "fig, axes = plt.subplots()\n",
        "fig.set_size_inches(8, 5)\n",
        "hist(axes, lelang_df_hasil_lelang, color=\"red\")\n",
        "plt.xlabel('Persebaran Data hasil lelang (hasil_lelang)')\n",
        "plt.ylabel('Banyak')\n",
        "\n",
        "plt.show()"
      ],
      "execution_count": 74,
      "outputs": [
        {
          "output_type": "display_data",
          "data": {
            "image/png": "[encoded data removed]",
            "text/plain": [
              "<Figure size 576x360 with 1 Axes>"
            ]
          },
          "metadata": {
            "tags": [],
            "needs_background": "light"
          }
        }
      ]
    },
    {
      "cell_type": "code",
      "metadata": {
        "id": "AsUiVhPUQei5",
        "colab_type": "code",
        "colab": {
          "base_uri": "https://localhost:8080/",
          "height": 50
        },
        "outputId": "bb3e9d02-dba4-4b53-e3f5-d8c9344f47c0"
      },
      "source": [
        "print(\"Jumlah total data paket lelang dengan kolom nama_paket kosong(null):\",lelang_df.where(col(\"nama_paket\").isNull()).count())\n",
        "print(\"Jumlah total data hasil lelang dengan kolom hasil_lelang kosong(null):\",lelang_df.where(col(\"hasil_lelang\").isNull()).count())"
      ],
      "execution_count": 75,
      "outputs": [
        {
          "output_type": "stream",
          "text": [
            "Jumlah total data paket lelang dengan kolom nama_paket kosong(null): 1388695\n",
            "Jumlah total data hasil lelang dengan kolom hasil_lelang kosong(null): 1451464\n"
          ],
          "name": "stdout"
        }
      ]
    },
    {
      "cell_type": "markdown",
      "metadata": {
        "id": "n-awy6gRR9-h",
        "colab_type": "text"
      },
      "source": [
        "## **2. PRE PROCESSING**"
      ]
    },
    {
      "cell_type": "code",
      "metadata": {
        "id": "r6oDty_rR8NV",
        "colab_type": "code",
        "colab": {
          "base_uri": "https://localhost:8080/",
          "height": 34
        },
        "outputId": "ffe9bc22-c068-41b9-a801-7d26709bc03b"
      },
      "source": [
        "mean_age = lelang_df.agg(avg(col(\"nama_paket\"))).first()\n",
        "print(\"rata-rata data paket lelang\", mean_age[0])\n",
        "lelang_df = lelang_df.na.fill(mean_age[0], [\"nama_paket\"])"
      ],
      "execution_count": 76,
      "outputs": [
        {
          "output_type": "stream",
          "text": [
            "rata-rata data paket lelang 642868095.0761801\n"
          ],
          "name": "stdout"
        }
      ]
    },
    {
      "cell_type": "code",
      "metadata": {
        "id": "JgO0iEqiSjPn",
        "colab_type": "code",
        "colab": {
          "base_uri": "https://localhost:8080/",
          "height": 34
        },
        "outputId": "33d8d2d0-83e7-4330-e570-2089889c93f1"
      },
      "source": [
        "mean_age = lelang_df.agg(avg(col(\"hasil_lelang\"))).first()\n",
        "print(\"rata-rata data hasil lelang \", mean_age[0])\n",
        "lelang_df = lelang_df.na.fill(mean_age[0], [\"hasil_lelang\"])"
      ],
      "execution_count": 77,
      "outputs": [
        {
          "output_type": "stream",
          "text": [
            "rata-rata data hasil lelang  171515768.35280052\n"
          ],
          "name": "stdout"
        }
      ]
    },
    {
      "cell_type": "markdown",
      "metadata": {
        "id": "PPgRn6iF0-Az",
        "colab_type": "text"
      },
      "source": [
        "setelah mengisi data ```null``` dengan nilai rata-rata, sekarang kita cek apakah masih ada data yang kosong"
      ]
    },
    {
      "cell_type": "code",
      "metadata": {
        "id": "uHO6wR8CS57l",
        "colab_type": "code",
        "colab": {
          "base_uri": "https://localhost:8080/",
          "height": 50
        },
        "outputId": "8cfbf2bb-5f33-4ff6-bdc1-0c5df9a90c89"
      },
      "source": [
        "print(\"Jumlah total data paket lelang dengan kolom nama_paket kosong(null):\")\n",
        "lelang_df.where(col(\"nama_paket\").isNull()).count()"
      ],
      "execution_count": 78,
      "outputs": [
        {
          "output_type": "stream",
          "text": [
            "Jumlah total data paket lelang dengan kolom nama_paket kosong(null):\n"
          ],
          "name": "stdout"
        },
        {
          "output_type": "execute_result",
          "data": {
            "text/plain": [
              "0"
            ]
          },
          "metadata": {
            "tags": []
          },
          "execution_count": 78
        }
      ]
    },
    {
      "cell_type": "code",
      "metadata": {
        "id": "SUqRpWtPS5oz",
        "colab_type": "code",
        "colab": {
          "base_uri": "https://localhost:8080/",
          "height": 50
        },
        "outputId": "891a8b11-9f57-442b-e1df-7a0df6307038"
      },
      "source": [
        "print(\"Jumlah total data hasil lelang dengan kolom hasil_lelang kosong(null):\")\n",
        "lelang_df.where(col(\"hasil_lelang\").isNull()).count()"
      ],
      "execution_count": 79,
      "outputs": [
        {
          "output_type": "stream",
          "text": [
            "Jumlah total data hasil lelang dengan kolom hasil_lelang kosong(null):\n"
          ],
          "name": "stdout"
        },
        {
          "output_type": "execute_result",
          "data": {
            "text/plain": [
              "0"
            ]
          },
          "metadata": {
            "tags": []
          },
          "execution_count": 79
        }
      ]
    },
    {
      "cell_type": "code",
      "metadata": {
        "id": "qLV-7qivTX4Z",
        "colab_type": "code",
        "colab": {
          "base_uri": "https://localhost:8080/",
          "height": 185
        },
        "outputId": "dfa83fc3-3cb7-48df-daa6-ae0f0e600248"
      },
      "source": [
        "lelang_df.select('nama_paket','hasil_lelang').describe().show()"
      ],
      "execution_count": 80,
      "outputs": [
        {
          "output_type": "stream",
          "text": [
            "+-------+--------------------+-------------------+\n",
            "|summary|          nama_paket|       hasil_lelang|\n",
            "+-------+--------------------+-------------------+\n",
            "|  count|             1543893|            1543893|\n",
            "|   mean| 6.425533009974804E8|1.714427624673601E8|\n",
            "| stddev|1.4222237761233376E7|  4732733.478381879|\n",
            "|    min|                   0|                  3|\n",
            "|    max|           642868095|         1638384000|\n",
            "+-------+--------------------+-------------------+\n",
            "\n"
          ],
          "name": "stdout"
        }
      ]
    },
    {
      "cell_type": "markdown",
      "metadata": {
        "id": "d6t9yOmWUI3E",
        "colab_type": "text"
      },
      "source": [
        "## **3. PEMROSESAN DATA**"
      ]
    },
    {
      "cell_type": "code",
      "metadata": {
        "id": "GLXO9J6SsbVM",
        "colab_type": "code",
        "colab": {
          "base_uri": "https://localhost:8080/",
          "height": 286
        },
        "outputId": "2be336df-1ca8-48c2-87cd-2c50b15e32b1"
      },
      "source": [
        "# seleksi data\n",
        "lelang_df = lelang_df.select('nama_paket','tahun_anggaran','hasil_lelang')\n",
        "\n",
        "lelang_df.show(10)"
      ],
      "execution_count": 81,
      "outputs": [
        {
          "output_type": "stream",
          "text": [
            "+----------+--------------+------------+\n",
            "|nama_paket|tahun_anggaran|hasil_lelang|\n",
            "+----------+--------------+------------+\n",
            "| 642868095|          null|   171515768|\n",
            "| 642868095|          null|   171515768|\n",
            "| 642868095|          null|   171515768|\n",
            "| 642868095|          null|   171515768|\n",
            "| 642868095|          null|   171515768|\n",
            "| 642868095|          null|   171515768|\n",
            "| 642868095|          null|   171515768|\n",
            "| 642868095|          null|   171515768|\n",
            "| 642868095|          null|   171515768|\n",
            "| 642868095|          null|   171515768|\n",
            "+----------+--------------+------------+\n",
            "only showing top 10 rows\n",
            "\n"
          ],
          "name": "stdout"
        }
      ]
    },
    {
      "cell_type": "code",
      "metadata": {
        "id": "XbHj-EYKUK0E",
        "colab_type": "code",
        "colab": {
          "base_uri": "https://localhost:8080/",
          "height": 487
        },
        "outputId": "dfe749c0-4f20-436b-88f9-56af28d008fc"
      },
      "source": [
        "# filter data paket lelang berdasarkan tahun anggaranya\n",
        "data_2017 = lelang_df.filter(lelang_df.tahun_anggaran=='2017').count()\n",
        "\n",
        "# filter data paket lelang berdasarkan tahun anggaranya\n",
        "data_2018 = lelang_df.filter(lelang_df.tahun_anggaran=='2018').count()\n",
        "\n",
        "# hitung jumlah paket berdasarkan tahun anggaran\n",
        "print(\"Jumlah data pada tahun 2017   : \", data_2017)\n",
        "print(\"Jumlah data pada tahun 2018   : \", data_2018)\n",
        "\n",
        "# hitung rata-rata paket lelang berdasarkan jenis tahun anggarannya\n",
        "rata_rata_plelang = lelang_df.groupBy('tahun_anggaran').avg('nama_paket').show()\n"
      ],
      "execution_count": 101,
      "outputs": [
        {
          "output_type": "stream",
          "text": [
            "Jumlah data pada tahun 2017   :  12950\n",
            "Jumlah data pada tahun 2018   :  14143\n",
            "+--------------+--------------------+\n",
            "|tahun_anggaran|     avg(nama_paket)|\n",
            "+--------------+--------------------+\n",
            "|         43462|         4.7409575E8|\n",
            "|         43085| 8.049281038461539E8|\n",
            "|         42923|     6.37185319996E8|\n",
            "|         42776| 5.774724945416666E8|\n",
            "|         42688|        1.35530878E9|\n",
            "|            07|                 5.0|\n",
            "|         43341|  7.04613890391705E8|\n",
            "|         42975|  6.88916972722973E8|\n",
            "|         41075| 4.045263333333333E8|\n",
            "|         43044|          1.316783E9|\n",
            "|         42917|2.6671071785555556E8|\n",
            "|         41074|           1.76775E8|\n",
            "|         43258|  7.58265795338983E8|\n",
            "|         43040| 6.488479110039841E8|\n",
            "|         42937| 6.470261974589148E8|\n",
            "|         43429| 6.710133333333334E8|\n",
            "|         43375| 6.428733495564516E8|\n",
            "|         43336| 6.169115362973856E8|\n",
            "|         43185| 6.667314876854838E8|\n",
            "|         42974|  2.85263962962963E8|\n",
            "+--------------+--------------------+\n",
            "only showing top 20 rows\n",
            "\n"
          ],
          "name": "stdout"
        }
      ]
    }
  ]
}