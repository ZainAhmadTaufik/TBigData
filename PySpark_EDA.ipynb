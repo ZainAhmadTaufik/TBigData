{
  "nbformat": 4,
  "nbformat_minor": 0,
  "metadata": {
    "colab": {
      "name": "PySpark_EDA.ipynb",
      "provenance": [],
      "collapsed_sections": [],
      "authorship_tag": "ABX9TyM7+C+X7nx5iVvgXWkdnVcV",
      "include_colab_link": true
    },
    "kernelspec": {
      "name": "python3",
      "display_name": "Python 3"
    }
  },
  "cells": [
    {
      "cell_type": "markdown",
      "metadata": {
        "id": "view-in-github",
        "colab_type": "text"
      },
      "source": [
        "<a href=\"https://colab.research.google.com/github/ZainAhmadTaufik/TBigData/blob/master/PySpark_EDA.ipynb\" target=\"_parent\"><img src=\"https://colab.research.google.com/assets/colab-badge.svg\" alt=\"Open In Colab\"/></a>"
      ]
    },
    {
      "cell_type": "markdown",
      "metadata": {
        "id": "msx2GbQuhkaK",
        "colab_type": "text"
      },
      "source": [
        "# **Proses EDA (Exploratory Data Analysis) pada Dataset lelang-id-2017-2018**"
      ]
    },
    {
      "cell_type": "markdown",
      "metadata": {
        "id": "FidEb4NeiXA9",
        "colab_type": "text"
      },
      "source": [
        ""
      ]
    },
    {
      "cell_type": "markdown",
      "metadata": {
        "id": "QUkmQZGC0yFv",
        "colab_type": "text"
      },
      "source": [
        ""
      ]
    }
  ]
}