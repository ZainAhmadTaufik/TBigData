{
  "nbformat": 4,
  "nbformat_minor": 0,
  "metadata": {
    "colab": {
      "name": "PySpark_EDA.ipynb",
      "provenance": [],
      "collapsed_sections": [],
      "include_colab_link": true
    },
    "kernelspec": {
      "name": "python3",
      "display_name": "Python 3"
    }
  },
  "cells": [
    {
      "cell_type": "markdown",
      "metadata": {
        "id": "view-in-github",
        "colab_type": "text"
      },
      "source": [
        "<a href=\"https://colab.research.google.com/github/ZainAhmadTaufik/TBigData/blob/master/PySpark_EDA.ipynb\" target=\"_parent\"><img src=\"https://colab.research.google.com/assets/colab-badge.svg\" alt=\"Open In Colab\"/></a>"
      ]
    },
    {
      "cell_type": "markdown",
      "metadata": {
        "id": "msx2GbQuhkaK",
        "colab_type": "text"
      },
      "source": [
        "# **Proses EDA (Exploratory Data Analysis) pada Dataset lelang-id-2017-2018**"
      ]
    },
    {
      "cell_type": "markdown",
      "metadata": {
        "id": "FidEb4NeiXA9",
        "colab_type": "text"
      },
      "source": [
        "Proses EDA seharusnya dilakukan untuk semua kolom supaya informasi data, sebaran data diketahui sehingga dapat dilakukan pre-processing sebelum data diolah menggunakan pemrosesan Big Data (misal MapReduce, Transformations dan Actions pada RDD, DataFrame, SpratSQL maupun SparkML(Machine Learning))\n",
        "\n",
        "Pada proses EDA ini, saya akan memproses data pada kolom nama_paket, hasil_lelang, dan tahun_anggaran. Anda di harapkan melakukan proses EDA terhadap data sesuai kolom-kolom yang ada pada dataset yang anda pilih"
      ]
    },
    {
      "cell_type": "markdown",
      "metadata": {
        "id": "QUkmQZGC0yFv",
        "colab_type": "text"
      },
      "source": [
        "# **1. Instalasi Spark pada Google Colab**\n",
        "\n",
        "Kode di bawah ini hanya dijalankan satu kali saja saat runtime pertama kali dijalankan"
      ]
    },
    {
      "cell_type": "code",
      "metadata": {
        "id": "fqPcOqgjIRRZ",
        "colab_type": "code",
        "colab": {}
      },
      "source": [
        ""
      ],
      "execution_count": null,
      "outputs": []
    }
  ]
}